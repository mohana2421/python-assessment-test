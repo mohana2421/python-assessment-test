{
 "cells": [
  {
   "cell_type": "markdown",
   "metadata": {},
   "source": [
    "### create a funtion to find fibanoci series of given number  \n",
    "### create a funtion data frame  with two columns and plot scatter plot to those two columns in the same plane\n"
   ]
  },
  {
   "cell_type": "code",
   "execution_count": 20,
   "metadata": {},
   "outputs": [],
   "source": [
    "### create a funtion to find fibanoci series of given number \n",
    "def fibanociseries(n): \n",
    "    if n<0: \n",
    "        print(\"input\") \n",
    "    elif n==1: \n",
    "        return 0\n",
    "    elif n==2: \n",
    "        return 1\n",
    "    else: \n",
    "        return fibanociseries(n-1)+fibanociseries(n-2) \n",
    "      "
   ]
  },
  {
   "cell_type": "code",
   "execution_count": 21,
   "metadata": {},
   "outputs": [
    {
     "name": "stdout",
     "output_type": "stream",
     "text": [
      "21\n"
     ]
    }
   ],
   "source": [
    "print(fibanociseries(9))"
   ]
  },
  {
   "cell_type": "code",
   "execution_count": 14,
   "metadata": {},
   "outputs": [],
   "source": [
    "import pandas as df"
   ]
  },
  {
   "cell_type": "code",
   "execution_count": 15,
   "metadata": {},
   "outputs": [
    {
     "name": "stdout",
     "output_type": "stream",
     "text": [
      "Given Dataframe is :\n",
      "    Name  Age\n",
      "0  mona   19\n",
      "1   anu   20\n",
      "2  teju   19\n",
      "\n",
      "Splitting 'Name' column into two different columns :\n",
      "       0\n",
      "0  mona\n",
      "1   anu\n",
      "2  teju\n"
     ]
    }
   ],
   "source": [
    "### create a funtion data frame  with two columns and plot scatter plot to those two columns in the same plan\n",
    "     \n",
    "df = df.DataFrame({'Name': [\"mona\", \"anu\", \"teju\"], \n",
    "                    'Age':[19, 20, 19]}) \n",
    "\n",
    "print(\"Given Dataframe is :\\n\",df) \n",
    "print(\"\\nSplitting 'Name' column into two different columns :\\n\", \n",
    "                               df.Name.str.split(expand=True)) \n"
   ]
  },
  {
   "cell_type": "code",
   "execution_count": null,
   "metadata": {},
   "outputs": [],
   "source": []
  }
 ],
 "metadata": {
  "kernelspec": {
   "display_name": "Python 3",
   "language": "python",
   "name": "python3"
  },
  "language_info": {
   "codemirror_mode": {
    "name": "ipython",
    "version": 3
   },
   "file_extension": ".py",
   "mimetype": "text/x-python",
   "name": "python",
   "nbconvert_exporter": "python",
   "pygments_lexer": "ipython3",
   "version": "3.7.3"
  }
 },
 "nbformat": 4,
 "nbformat_minor": 2
}
